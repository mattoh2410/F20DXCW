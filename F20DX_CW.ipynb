{
 "cells": [
  {
   "cell_type": "markdown",
   "source": [
    "# F20DX Coursework Project 4&5"
   ],
   "metadata": {
    "collapsed": false
   }
  },
  {
   "cell_type": "markdown",
   "source": [],
   "metadata": {
    "collapsed": false
   }
  },
  {
   "cell_type": "markdown",
   "source": [
    "## Introduction\n",
    "\n",
    "The Goal of this coursework is to delve into principles and practices of Data Mining and Machine Learning. This will be accomplished by selecting the Boston House Prices as the target dataset for analysis. By undertaking this coursework, we aim to gain hands-on experience with working with a real-life dataset and gaining a fundamental understanding of the Data Mining and Machine Learning process.\n",
    "\n",
    "The Boston House Prices dataset is well known within data mining as it provides valuable information about what various factors could influence the median value of owner-occupied homes in different areas of Boston. By analyzing this dataset, we can understand some important insights into the relationships between the different factors and the housing prices. This knowledge proves especially useful for professionals in the real estate industry, bankers, and individuals involved in property transactions within the Boston area.\n",
    "\n",
    "The algorithms chosen for this project are Decision Trees and Linear Classification. These algorithms have been selected based on their suitability and compatibility with the characteristics of the Boston House Prices dataset. Decision Trees are known for their ability to capture complex relationships and provide interpretable models. Meanwhile, Linear Classification algorithms offer simplicity and allow us to explore the linear associations between the factors and housing prices. By employing both Decision Trees and Linear Classification algorithms, we aim to gain a comprehensive understanding of the underlying patterns and rules within the dataset, thereby enhancing our analysis of the Boston House Prices dataset.\n",
    "\n"
   ],
   "metadata": {
    "collapsed": false
   }
  },
  {
   "cell_type": "markdown",
   "source": [
    "## Data Pre-Processing For Decision Trees\n",
    "\n"
   ],
   "metadata": {
    "collapsed": false
   }
  },
  {
   "cell_type": "code",
   "execution_count": 20,
   "outputs": [
    {
     "name": "stdout",
     "output_type": "stream",
     "text": [
      "        CRIM    ZN  INDUS  CHAS    NOX     RM   AGE     DIS  RAD    TAX  \\\n",
      "0    0.00632  18.0   2.31     0  0.538  6.575  65.2  4.0900    1  296.0   \n",
      "1    0.02731   0.0   7.07     0  0.469  6.421  78.9  4.9671    2  242.0   \n",
      "2    0.02729   0.0   7.07     0  0.469  7.185  61.1  4.9671    2  242.0   \n",
      "3    0.03237   0.0   2.18     0  0.458  6.998  45.8  6.0622    3  222.0   \n",
      "4    0.06905   0.0   2.18     0  0.458  7.147  54.2  6.0622    3  222.0   \n",
      "..       ...   ...    ...   ...    ...    ...   ...     ...  ...    ...   \n",
      "501  0.06263   0.0  11.93     0  0.573  6.593  69.1  2.4786    1  273.0   \n",
      "502  0.04527   0.0  11.93     0  0.573  6.120  76.7  2.2875    1  273.0   \n",
      "503  0.06076   0.0  11.93     0  0.573  6.976  91.0  2.1675    1  273.0   \n",
      "504  0.10959   0.0  11.93     0  0.573  6.794  89.3  2.3889    1  273.0   \n",
      "505  0.04741   0.0  11.93     0  0.573  6.030  80.8  2.5050    1  273.0   \n",
      "\n",
      "     PTRATIO       B  LSTAT  MEDV  \n",
      "0       15.3  396.90   4.98  24.0  \n",
      "1       17.8  396.90   9.14  21.6  \n",
      "2       17.8  392.83   4.03  34.7  \n",
      "3       18.7  394.63   2.94  33.4  \n",
      "4       18.7  396.90   5.33  36.2  \n",
      "..       ...     ...    ...   ...  \n",
      "501     21.0  391.99   9.67  22.4  \n",
      "502     21.0  396.90   9.08  20.6  \n",
      "503     21.0  396.90   5.64  23.9  \n",
      "504     21.0  393.45   6.48  22.0  \n",
      "505     21.0  396.90   7.88  11.9  \n",
      "\n",
      "[506 rows x 14 columns]\n"
     ]
    }
   ],
   "source": [
    "import pandas as pd\n",
    "from sklearn.model_selection import train_test_split\n",
    "# Load the dataset from the CSV file\n",
    "data = pd.read_csv('boston.csv')\n",
    "data.head()\n",
    "# Create a DataFrame with the selected columns\n",
    "selected_columns = ['CRIM', 'ZN', 'INDUS', 'CHAS', 'NOX', 'RM', 'AGE', 'DIS', 'RAD', 'TAX', 'PTRATIO', 'B', 'LSTAT', 'MEDV']\n",
    "selected_data = data[selected_columns]\n",
    "\n",
    "# Create a new DataFrame using the selected data\n",
    "df = pd.DataFrame(selected_data)\n",
    "\n",
    "# Print the DataFrame(Show the Data in python)\n",
    "print(df)"
   ],
   "metadata": {
    "collapsed": false,
    "ExecuteTime": {
     "end_time": "2023-06-07T14:32:13.151249044Z",
     "start_time": "2023-06-07T14:32:13.139128145Z"
    }
   }
  },
  {
   "cell_type": "markdown",
   "source": [
    "## Descision Tree"
   ],
   "metadata": {
    "collapsed": false
   }
  },
  {
   "cell_type": "code",
   "execution_count": 19,
   "outputs": [
    {
     "name": "stdout",
     "output_type": "stream",
     "text": [
      "X_train shape: (404, 13)\n",
      "X_test shape: (102, 13)\n",
      "y_train shape: (404,)\n",
      "y_test shape: (102,)\n"
     ]
    }
   ],
   "source": [
    "\n",
    "# Select the features (X) and the target variable (y)\n",
    "features = data.drop('MEDV', axis=1)\n",
    "target = data['MEDV']\n",
    "# Split the data into training and testing sets\n",
    "X_train, X_test, y_train, y_test = train_test_split(features, target, test_size=0.2, random_state=42)\n",
    "\n",
    "# Print the shapes of the train and test sets\n",
    "print(\"X_train shape:\", X_train.shape)\n",
    "print(\"X_test shape:\", X_test.shape)\n",
    "print(\"y_train shape:\", y_train.shape)\n",
    "print(\"y_test shape:\", y_test.shape)\n"
   ],
   "metadata": {
    "collapsed": false,
    "ExecuteTime": {
     "end_time": "2023-06-07T13:42:49.010772554Z",
     "start_time": "2023-06-07T13:42:48.968614071Z"
    }
   }
  }
 ],
 "metadata": {
  "kernelspec": {
   "display_name": "Python 3",
   "language": "python",
   "name": "python3"
  },
  "language_info": {
   "codemirror_mode": {
    "name": "ipython",
    "version": 2
   },
   "file_extension": ".py",
   "mimetype": "text/x-python",
   "name": "python",
   "nbconvert_exporter": "python",
   "pygments_lexer": "ipython2",
   "version": "2.7.6"
  }
 },
 "nbformat": 4,
 "nbformat_minor": 0
}
